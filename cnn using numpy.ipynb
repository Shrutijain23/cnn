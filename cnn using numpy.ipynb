{
 "cells": [
  {
   "cell_type": "code",
   "execution_count": ,
   "metadata": {
    "collapsed": true
   },
   "outputs": [],
   "source": [
    "import numpy as np"
   ]
  },
  {
   "cell_type": "code",
   "execution_count": 149,
   "metadata": {
    "collapsed": true
   },
   "outputs": [],
   "source": [
    "def conv_single_step(x_slice, W, b):\n",
    "    s = np.multiply(x_slice,W)\n",
    "    Z = np.sum(s)\n",
    "    Z = Z+float(b)\n",
    "    return Z\n",
    "    "
   ]
  },
  {
   "cell_type": "code",
   "execution_count": 150,
   "metadata": {
    "collapsed": true
   },
   "outputs": [],
   "source": [
    "def relu(Z):\n",
    "    A=np.maximum(Z,np.zeros_like(Z))\n",
    "\n",
    "    return A\n"
   ]
  },
  {
   "cell_type": "code",
   "execution_count": 151,
   "metadata": {
    "collapsed": true
   },
   "outputs": [],
   "source": [
    "def conv_forward(x, W, b, hparameters):\n",
    "    (n_H_inp, n_W_inp) = x.shape\n",
    "    (f, f, n_C) = W.shape\n",
    "    stride =hparameters[\"stride\"]\n",
    "    pad = hparameters[\"pad\"]\n",
    "    n_H_out = int((n_H_inp-f+2*pad)/stride)+1\n",
    "    n_W_out = int((n_W_inp-f+2*pad)/stride)+1\n",
    "    print(n_H_out)\n",
    "    print(n_W_out)\n",
    "    Z0 = np.zeros((n_H_out,n_W_out,n_C)) \n",
    "   \n",
    "    A = np.zeros((n_H_out,n_W_out,n_C)) \n",
    "    xpad=np.pad(x,((1,1),(1,1)),'constant',constant_values=(0,0))\n",
    "   \n",
    "    for h in range(n_H_out):               #vertical \n",
    "            for w in range(n_W_out):        #horizontal             \n",
    "                for c in range(n_C): \n",
    "                    vert_start = h*stride\n",
    "                    vert_end = vert_start+f\n",
    "                    horiz_start = w*stride\n",
    "                    horiz_end = horiz_start+f\n",
    "                    x_slice =xpad[vert_start:vert_end, horiz_start:horiz_end]\n",
    "                    Z0[h, w, c] = conv_single_step(x_slice, W[...,c], b[...,c])\n",
    "                    A[h, w, c] = relu(Z0[h, w, c])\n",
    "    cache = (xpad, W, b, hparameters)\n",
    "   \n",
    "    return A,Z0, cache                "
   ]
  },
  {
   "cell_type": "code",
   "execution_count": 152,
   "metadata": {},
   "outputs": [
    {
     "name": "stdout",
     "output_type": "stream",
     "text": [
      "16\n",
      "16\n"
     ]
    }
   ],
   "source": [
    "np.random.seed(1)\n",
    "x = np.random.randn(32, 32)\n",
    "W = np.random.randn(3,3,4)\n",
    "b= np.random.randn(1,1,4)\n",
    "hparameters = {\"pad\" : 1,\n",
    "               \"stride\": 2}\n",
    "\n",
    "\n",
    "A,Z0, cache_conv =conv_forward(x, W, b, hparameters)\n",
    "\n",
    "\n",
    "W1 = np.random.randn(1024,10)\n",
    "b1 = np.random.randn(1,10)\n",
    "W2 = np.random.randn(10,1)\n",
    "b2 = np.random.randn(1,1)\n"
   ]
  },
  {
   "cell_type": "code",
   "execution_count": 153,
   "metadata": {},
   "outputs": [],
   "source": [
    "\n",
    "A_flatten=A.reshape(1,-1)"
   ]
  },
  {
   "cell_type": "code",
   "execution_count": 154,
   "metadata": {
    "collapsed": true
   },
   "outputs": [],
   "source": [
    "def forward(A, W, b):\n",
    "    Z = np.dot(A,W) + b\n",
    "    cache = (A, W, b)\n",
    "    \n",
    "    return Z, cache"
   ]
  },
  {
   "cell_type": "code",
   "execution_count": 155,
   "metadata": {},
   "outputs": [
    {
     "name": "stdout",
     "output_type": "stream",
     "text": [
      "Length of caches list = 0\n",
      "(1, 1)\n"
     ]
    }
   ],
   "source": [
    "caches = []\n",
    "Z1, linear_cache = forward(A_flatten,W1,b1)\n",
    "\n",
    "A1 = relu(Z1)\n",
    "\n",
    "Z2, linear_cache = forward(A1,W2, b2)\n",
    "A2 =1/(1+np.exp(-Z2))\n",
    "\n",
    "print(\"Length of caches list = \" + str(len(caches)))\n",
    "print(A2.shape)"
   ]
  },
  {
   "cell_type": "code",
   "execution_count": 156,
   "metadata": {
    "collapsed": true
   },
   "outputs": [],
   "source": [
    "Y=1\n",
    "cost = np.sum(np.multiply(Y, np.log(A2)) + np.multiply(1 - Y, np.log(1 - A2)))"
   ]
  },
  {
   "cell_type": "code",
   "execution_count": 157,
   "metadata": {},
   "outputs": [],
   "source": [
    "#back propogation\n",
    "dA2 = - (np.divide(Y, A2) - np.divide(1 - Y, 1 - A2))\n",
    "s = 1/(1+np.exp(-Z2))\n",
    "dZ2 = dA2 * s * (1-s)\n",
    "dW2 = np.dot(A1.T,dZ2)\n",
    "db2 = (np.sum(dZ2, axis=0, keepdims=True)) \n",
    "dA1 = np.dot( dZ2,W2.T)\n"
   ]
  },
  {
   "cell_type": "code",
   "execution_count": 158,
   "metadata": {},
   "outputs": [],
   "source": [
    "Z = Z1\n",
    "\n",
    "dZ1 = np.array(dA1, copy=True) \n",
    "dZ1[Z <= 0] = 0\n",
    "dW1 = np.dot(A_flatten.T,dZ1)\n",
    "db1 = (np.sum(dZ1, axis=0, keepdims=True)) \n",
    "dA_flatten = np.dot( dZ1,W1.T)\n",
    " "
   ]
  },
  {
   "cell_type": "code",
   "execution_count": 159,
   "metadata": {},
   "outputs": [],
   "source": [
    "relu_back=dA_flatten.reshape(16,16,4)\n",
    "\n",
    "dZ0 = np.array(relu_back, copy=True) \n",
    "\n",
    "dZ0[Z0 <= 0] = 0\n"
   ]
  },
  {
   "cell_type": "code",
   "execution_count": 160,
   "metadata": {},
   "outputs": [],
   "source": [
    "def conv_backward(dZ0, cache):\n",
    "    (x_pad, W, b, hparameters) = cache\n",
    "    (n_H_inp, n_W_inp) = x_pad.shape\n",
    "    (f, f, n_C) = W.shape\n",
    "    (n_H_out,n_W_out,n_C)=dZ0.shape\n",
    "    dx_pad = np.zeros((n_H_inp, n_W_inp))                           \n",
    "    dW = np.zeros((f, f, n_C))\n",
    "    db = np.zeros((1, 1, n_C))\n",
    "    stride = hparameters[\"stride\"]\n",
    "    pad = hparameters[\"pad\"]\n",
    "    \n",
    "    for h in range(n_H_out):               #vertical \n",
    "            for w in range(n_W_out):        #horizontal             \n",
    "                for c in range(n_C): \n",
    "                    vert_start = h*stride\n",
    "                    vert_end = vert_start+f\n",
    "                    horiz_start = w*stride\n",
    "                    horiz_end = horiz_start+f\n",
    "                    a_slice = x_pad[vert_start:vert_end, horiz_start:horiz_end]\n",
    "                    dx_pad[vert_start:vert_end, horiz_start:horiz_end] += W[:,:,c] * dZ0[h, w, c]\n",
    "                    dW[:,:,c] += a_slice * dZ0[ h, w, c]\n",
    "                    db[:,:,c] += dZ0[h, w, c]\n",
    "    \n",
    "    return dx_pad, dW, db"
   ]
  },
  {
   "cell_type": "code",
   "execution_count": 162,
   "metadata": {},
   "outputs": [],
   "source": [
    "np.random.seed(1)\n",
    "dx, dW, db = conv_backward(dZ0, cache_conv)\n",
    "#print(dx.shape)\n",
    "#print(dW.shape)\n",
    "#print(db.shape)"
   ]
  },
  {
   "cell_type": "code",
   "execution_count": null,
   "metadata": {
    "collapsed": true
   },
   "outputs": [],
   "source": []
  }
 ],
 "metadata": {
  "kernelspec": {
   "display_name": "Python [conda env:Anaconda3]",
   "language": "python",
   "name": "conda-env-Anaconda3-py"
  },
  "language_info": {
   "codemirror_mode": {
    "name": "ipython",
    "version": 3
   },
   "file_extension": ".py",
   "mimetype": "text/x-python",
   "name": "python",
   "nbconvert_exporter": "python",
   "pygments_lexer": "ipython3",
   "version": "3.6.1"
  }
 },
 "nbformat": 4,
 "nbformat_minor": 2
}
